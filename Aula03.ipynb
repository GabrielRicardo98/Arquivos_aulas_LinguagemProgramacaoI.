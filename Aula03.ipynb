{
  "nbformat": 4,
  "nbformat_minor": 0,
  "metadata": {
    "colab": {
      "provenance": [],
      "include_colab_link": true
    },
    "kernelspec": {
      "name": "python3",
      "display_name": "Python 3"
    },
    "language_info": {
      "name": "python"
    }
  },
  "cells": [
    {
      "cell_type": "markdown",
      "metadata": {
        "id": "view-in-github",
        "colab_type": "text"
      },
      "source": [
        "<a href=\"https://colab.research.google.com/github/GabrielRicardo98/Arquivos_aulas_LinguagemProgramacaoI./blob/main/Aula03.ipynb\" target=\"_parent\"><img src=\"https://colab.research.google.com/assets/colab-badge.svg\" alt=\"Open In Colab\"/></a>"
      ]
    },
    {
      "cell_type": "markdown",
      "source": [
        "#Aula 03"
      ],
      "metadata": {
        "id": "W5Rn6PXL-Ums"
      }
    },
    {
      "cell_type": "markdown",
      "source": [
        "##Exercício 09"
      ],
      "metadata": {
        "id": "gF1f4hyl_Sff"
      }
    },
    {
      "cell_type": "code",
      "execution_count": null,
      "metadata": {
        "colab": {
          "base_uri": "https://localhost:8080/"
        },
        "id": "YESNyq_e95fE",
        "outputId": "b5a065d5-7f80-44d9-9a26-c215ea58c4d8"
      },
      "outputs": [
        {
          "output_type": "stream",
          "name": "stdout",
          "text": [
            "Here are the day:  Mon Tue Wed Thu Fri Sat Sun\n",
            "Here are the months:  Jan\n",
            "Feb\n",
            "Mar \n",
            "Apri\n",
            "May\n",
            "Jun\n",
            "Jul\n",
            "ago\n",
            "Set\n",
            "Out\n",
            "Nov\n",
            "Dez\n",
            "\n",
            "\n",
            "There's something going on here.\n",
            "\n",
            "With the three double-quotes.\n",
            "\n",
            "We'll be able to type as much as we like.\n",
            "\n",
            "Even 4 line if we want, or 5, or 6.\n",
            "\n",
            "\n"
          ]
        }
      ],
      "source": [
        "days = \"Mon Tue Wed Thu Fri Sat Sun\"\n",
        "\n",
        "months = \"Jan\\nFeb\\nMar \\nApri\\nMay\\nJun\\nJul\\nago\\nSet\\nOut\\nNov\\nDez\"\n",
        "print(\"Here are the day: \", days)\n",
        "\n",
        "print(\"Here are the months: \", months)\n",
        "\n",
        "print(\"\"\"\n",
        "\n",
        "There's something going on here.\n",
        "\n",
        "With the three double-quotes.\n",
        "\n",
        "We'll be able to type as much as we like.\n",
        "\n",
        "Even 4 line if we want, or 5, or 6.\n",
        "\n",
        "\"\"\")"
      ]
    },
    {
      "cell_type": "markdown",
      "source": [
        "##Exercício 10"
      ],
      "metadata": {
        "id": "koFahgBo_mHL"
      }
    },
    {
      "cell_type": "code",
      "source": [
        "tabby_cat = \"\\tI'm tabbed in.\"\n",
        "persian_cat = \"I'm split\\non a line.\"\n",
        "backslash_cat = \"I'm \\\\ a \\\\ cat.\"\n",
        "\n",
        "fat_cat = \"\"\"\n",
        "I'11 do a list:\n",
        "\\t* Cat food \\t* Fishies\n",
        "\\t* Catnip\\n\\t* Grass\n",
        "\"\"\"\n",
        "\n",
        "print(tabby_cat)\n",
        "print(persian_cat)\n",
        "print(backslash_cat)\n",
        "\n",
        "print(fat_cat)"
      ],
      "metadata": {
        "colab": {
          "base_uri": "https://localhost:8080/"
        },
        "id": "yan0qNGM_p51",
        "outputId": "17e5242a-c5a2-446b-f462-375575e7ed72"
      },
      "execution_count": null,
      "outputs": [
        {
          "output_type": "stream",
          "name": "stdout",
          "text": [
            "\tI'm tabbed in.\n",
            "I'm split\n",
            "on a line.\n",
            "I'm \\ a \\ cat.\n",
            "\n",
            "I'11 do a list:\n",
            "\t* Cat food \t* Fishies\n",
            "\t* Catnip\n",
            "\t* Grass\n",
            "\n"
          ]
        }
      ]
    },
    {
      "cell_type": "markdown",
      "source": [
        "##Exercício 11"
      ],
      "metadata": {
        "id": "9jfb4cEvCDnV"
      }
    },
    {
      "cell_type": "markdown",
      "source": [],
      "metadata": {
        "id": "pbwyGFWTB8ci"
      }
    },
    {
      "cell_type": "code",
      "source": [
        "print(\"How old are you?\", end=' ')\n",
        "\n",
        "age = input()\n",
        "\n",
        "print(\"How tall are you?\", end=' ')\n",
        "\n",
        "height = input()\n",
        "\n",
        "print(\"How much do you weigh?\", end=' ')\n",
        "\n",
        "weight = input()\n",
        "\n",
        "print(f\"So, you're {age} old, {height} tall and {weight} heavy.\")"
      ],
      "metadata": {
        "colab": {
          "base_uri": "https://localhost:8080/"
        },
        "id": "6Xhcz9ayB886",
        "outputId": "9ddbcec7-ef3e-4b0b-f2b8-6d4395debbd5"
      },
      "execution_count": null,
      "outputs": [
        {
          "output_type": "stream",
          "name": "stdout",
          "text": [
            "How old are you? 29\n",
            "How tall are you? 1,86\n",
            "How much do you weigh? 69\n",
            "So, you're 29 old, 1,86 tall and 69 heavy.\n"
          ]
        }
      ]
    },
    {
      "cell_type": "markdown",
      "source": [],
      "metadata": {
        "id": "z2ZnWL71C5OF"
      }
    },
    {
      "cell_type": "markdown",
      "source": [
        "##Exercício 12"
      ],
      "metadata": {
        "id": "hFLtGXaxC6cG"
      }
    },
    {
      "cell_type": "code",
      "source": [
        "age = input(\"How old are you? \")\n",
        "\n",
        "height = input(\"How tall are you? \")\n",
        "\n",
        "weight = input(\"How much do you weigh? \")\n",
        "\n",
        "print(f\"So, you're {age} old, {height} tall and {weight} heavy.\")"
      ],
      "metadata": {
        "colab": {
          "base_uri": "https://localhost:8080/"
        },
        "id": "mrjOJPWbC9ZP",
        "outputId": "c8138edc-69ee-4c34-f847-d383b5bc8714"
      },
      "execution_count": null,
      "outputs": [
        {
          "output_type": "stream",
          "name": "stdout",
          "text": [
            "How old are you? 29\n",
            "How tall are you? 1,86\n",
            "How much do you weigh? 69\n",
            "So, you're 29 old, 1,86 tall and 69 heavy.\n"
          ]
        }
      ]
    },
    {
      "cell_type": "markdown",
      "source": [
        "##Exercício 13"
      ],
      "metadata": {
        "id": "SQtQ3gfkDD_7"
      }
    },
    {
      "cell_type": "code",
      "source": [
        "people = 20\n",
        "cats = 30\n",
        "dogs = 15\n",
        "if people < cats:\n",
        "    print(\"Too many cats! The world is doomed!\")\n",
        "if people > cats:\n",
        "    print(\"Not many cats! The world is saved!\")\n",
        "if people < dogs:\n",
        "    print(\"The world is drooled on!\")\n",
        "if people > dogs:\n",
        "    print(\"The world is dry!\")\n",
        "dogs += 5\n",
        "if people >= dogs:\n",
        "    print(\"People are greater than or equal to dogs.\")\n",
        "if people <= dogs:\n",
        "    print(\"People are less than or equal to dogs.\")\n",
        "if people == dogs:\n",
        "    print(\"People are dogs.\")"
      ],
      "metadata": {
        "colab": {
          "base_uri": "https://localhost:8080/"
        },
        "id": "m_-GOZVeDI0-",
        "outputId": "84d841b9-fd2c-4ac7-f041-defacac2d64a"
      },
      "execution_count": null,
      "outputs": [
        {
          "output_type": "stream",
          "name": "stdout",
          "text": [
            "Too many cats! The world is doomed!\n",
            "The world is dry!\n",
            "People are greater than or equal to dogs.\n",
            "People are less than or equal to dogs.\n",
            "People are dogs.\n"
          ]
        }
      ]
    },
    {
      "cell_type": "markdown",
      "source": [
        "##Exercício 14"
      ],
      "metadata": {
        "id": "eyKFuuCHDtwc"
      }
    },
    {
      "cell_type": "code",
      "source": [
        "people = 30\n",
        "cars = 40\n",
        "trucks = 15\n",
        "if cars > people:\n",
        "    print(\"We should take the cars.\")\n",
        "elif cars < people:\n",
        "    print(\"We should not take the cars.\")\n",
        "else:\n",
        "    print(\"We can't decide.\")\n",
        "if trucks > cars:\n",
        "    print(\"That's too many trucks.\")\n",
        "elif trucks < cars:\n",
        "    print(\"Maybe we could take the trucks.\")\n",
        "else:\n",
        "    print(\"We still can't decide.\")\n",
        "if people > trucks:\n",
        "    print(\"Alright, let's just take the trucks.\")\n",
        "else:\n",
        "    print(\"Fine, let's stay home then.\")\n"
      ],
      "metadata": {
        "colab": {
          "base_uri": "https://localhost:8080/"
        },
        "id": "ZITD02Z2Dvy8",
        "outputId": "d104507a-fc64-4924-8b41-041892be55a7"
      },
      "execution_count": null,
      "outputs": [
        {
          "output_type": "stream",
          "name": "stdout",
          "text": [
            "We should take the cars.\n",
            "Maybe we could take the trucks.\n",
            "Alright, let's just take the trucks.\n"
          ]
        }
      ]
    },
    {
      "cell_type": "markdown",
      "source": [
        "##Exercício 15"
      ],
      "metadata": {
        "id": "lkoUi7sTEdBn"
      }
    },
    {
      "cell_type": "code",
      "source": [
        "print(\"\"\"You enter a dark room with two doors.\n",
        "Do you go through door #1 or door #2?\"\"\")\n",
        "\n",
        "door = input(\"> \")\n",
        "\n",
        "if door == \"1\":\n",
        "    print(\"There's a giant bear here eating a cheese cake.\")\n",
        "    print(\"What do you do?\")\n",
        "    print(\"1. Take the cake.\")\n",
        "    print(\"2. Scream at the bear.\")\n",
        "    bear = input(\"> \")\n",
        "    if bear == \"1\":\n",
        "        print(\"The bear eats your face off. Good job!\")\n",
        "    elif bear == \"2\":\n",
        "        print(\"The bear eats your legs off. Good job!\")\n",
        "    else:\n",
        "        print(f\"Well, doing (bear) is probably better.\")\n",
        "        print(\"Bear runs away.\")\n",
        "elif door == \"2\":\n",
        "    print(\"You stare into the endless abyss at Cthulhu's retina.\")\n",
        "    print(\"1. Blueberries.\")\n",
        "    print(\"2. Yellow jacket clothespins.\")\n",
        "    print(\"3. Understanding revolvers yelling melodies.\")\n",
        "    insanity = input(\"> \")\n",
        "    if insanity == \"1\" or insanity == \"2\":\n",
        "        print(\"Your body survives powered by a mind of jello.\")\n",
        "        print(\"Good job!\")\n",
        "    else:\n",
        "        print(\"The insanity rots your eyes into a pool of muck.\")\n",
        "        print(\"Good job!\")\n",
        "else:\n",
        "    print(\"You stumble around and fall on a knife and die. Good job!\")\n"
      ],
      "metadata": {
        "colab": {
          "base_uri": "https://localhost:8080/"
        },
        "id": "i5o874yIEe2o",
        "outputId": "0ea13e20-ba2d-48bf-d0ca-5e2dc341a8fa"
      },
      "execution_count": null,
      "outputs": [
        {
          "output_type": "stream",
          "name": "stdout",
          "text": [
            "You enter a dark room with two doors.\n",
            "Do you go through door #1 or door #2?\n",
            "> 2\n",
            "You stare into the endless abyss at Cthulhu's retina.\n",
            "1. Blueberries.\n",
            "2. Yellow jacket clothespins.\n",
            "3. Understanding revolvers yelling melodies.\n",
            "> 3\n",
            "The insanity rots your eyes into a pool of muck.\n",
            "Good job!\n"
          ]
        }
      ]
    }
  ]
}